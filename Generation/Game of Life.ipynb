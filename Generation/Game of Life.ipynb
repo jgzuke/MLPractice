{
 "cells": [
  {
   "cell_type": "markdown",
   "metadata": {},
   "source": [
    "# Game of Life"
   ]
  },
  {
   "cell_type": "code",
   "execution_count": 6,
   "metadata": {
    "collapsed": false
   },
   "outputs": [
    {
     "name": "stderr",
     "output_type": "stream",
     "text": [
      "/Users/jgzuke/anaconda3/lib/python3.5/site-packages/matplotlib/__init__.py:1350: UserWarning:  This call to matplotlib.use() has no effect\n",
      "because the backend has already been chosen;\n",
      "matplotlib.use() must be called *before* pylab, matplotlib.pyplot,\n",
      "or matplotlib.backends is imported for the first time.\n",
      "\n",
      "  warnings.warn(_use_error_msg)\n"
     ]
    }
   ],
   "source": [
    "import matplotlib\n",
    "matplotlib.use(\"Agg\")\n",
    "%matplotlib inline\n",
    "import matplotlib.pyplot as plt\n",
    "import matplotlib.animation as animation\n",
    "import random\n",
    "class Game(object):\n",
    "    \n",
    "    def __init__(self, state):\n",
    "        self.state = state\n",
    "\n",
    "    def step(self, count = 1):\n",
    "        for generation in range(count):\n",
    "            new_board = [[False] * self.state.width for row in range(self.state.height)]\n",
    "\n",
    "            for y, row in enumerate(self.state.board):\n",
    "                for x, cell in enumerate(row):\n",
    "                    neighbours = self.neighbours(x, y)\n",
    "                    previous_state = self.state.board[y][x]\n",
    "                    should_live = neighbours == 3 or (neighbours == 2 and previous_state == True)\n",
    "                    new_board[y][x] = should_live\n",
    "\n",
    "            self.state.board = new_board\n",
    "\n",
    "    def neighbours(self, x, y):\n",
    "        count = 0\n",
    "        for hor in [x-1, x, x+1]:\n",
    "            for ver in [y-1, y, y+1]:\n",
    "                if (hor != x or ver != y) and (0 <= hor < self.state.width and 0 <= ver < self.state.height):\n",
    "                    count += self.state.board[ver][hor]\n",
    "        return count\n",
    "\n",
    "    def display(self):\n",
    "        image = plt.imshow(self.state.board, cmap='gray', interpolation='none')\n",
    "\n",
    "class State(object):\n",
    "    \n",
    "    def __init__(self, width, height, board = None):\n",
    "        if not board:\n",
    "            self.board = [[random.getrandbits(1) for x in range(width)] for y in range(height)]\n",
    "        self.width = width\n",
    "        self.height = height"
   ]
  },
  {
   "cell_type": "code",
   "execution_count": 2,
   "metadata": {
    "collapsed": false
   },
   "outputs": [
    {
     "data": {
      "image/png": "[encoded data removed]",
      "text/plain": [
       "<matplotlib.figure.Figure at 0x10446a8d0>"
      ]
     },
     "metadata": {},
     "output_type": "display_data"
    }
   ],
   "source": [
    "my_game = Game(State(width = 50, height = 50))\n",
    "my_game.display()"
   ]
  },
  {
   "cell_type": "code",
   "execution_count": null,
   "metadata": {
    "collapsed": true
   },
   "outputs": [],
   "source": []
  },
  {
   "cell_type": "code",
   "execution_count": null,
   "metadata": {
    "collapsed": true
   },
   "outputs": [],
   "source": []
  },
  {
   "cell_type": "code",
   "execution_count": 5,
   "metadata": {
    "collapsed": false
   },
   "outputs": [
    {
     "name": "stderr",
     "output_type": "stream",
     "text": [
      "/Users/jgzuke/anaconda3/lib/python3.5/site-packages/matplotlib/__init__.py:1350: UserWarning:  This call to matplotlib.use() has no effect\n",
      "because the backend has already been chosen;\n",
      "matplotlib.use() must be called *before* pylab, matplotlib.pyplot,\n",
      "or matplotlib.backends is imported for the first time.\n",
      "\n",
      "  warnings.warn(_use_error_msg)\n"
     ]
    },
    {
     "data": {
      "image/png": "[encoded data removed]",
      "text/plain": [
       "<matplotlib.figure.Figure at 0x10c509160>"
      ]
     },
     "metadata": {},
     "output_type": "display_data"
    }
   ],
   "source": [
    "def update_line(num, data, line):\n",
    "    line.set_data(data[..., :num])\n",
    "    return line,\n",
    "\n",
    "# Set up formatting for the movie files\n",
    "Writer = animation.writers['ffmpeg']\n",
    "writer = Writer(fps=15, metadata=dict(artist='Me'), bitrate=1800)\n",
    "\n",
    "\n",
    "fig1 = plt.figure()\n",
    "\n",
    "data = np.random.rand(2, 25)\n",
    "l, = plt.plot([], [], 'r-')\n",
    "plt.xlim(0, 1)\n",
    "plt.ylim(0, 1)\n",
    "plt.xlabel('x')\n",
    "plt.title('test')\n",
    "line_ani = animation.FuncAnimation(fig1, update_line, 25, fargs=(data, l),\n",
    "                                   interval=50, blit=True)\n",
    "line_ani.save('lines.mp4', writer=writer)\n",
    "\n",
    "fig2 = plt.figure()\n",
    "\n",
    "x = np.arange(-9, 10)\n",
    "y = np.arange(-9, 10).reshape(-1, 1)\n",
    "base = np.hypot(x, y)\n",
    "ims = []\n",
    "for add in np.arange(15):\n",
    "    ims.append((plt.pcolor(x, y, base + add, norm=plt.Normalize(0, 30)),))\n",
    "\n",
    "im_ani = animation.ArtistAnimation(fig2, ims, interval=50, repeat_delay=3000,\n",
    "                                   blit=True)\n",
    "im_ani.save('im.mp4', writer=writer)"
   ]
  },
  {
   "cell_type": "code",
   "execution_count": null,
   "metadata": {
    "collapsed": true
   },
   "outputs": [],
   "source": []
  }
 ],
 "metadata": {
  "kernelspec": {
   "display_name": "Python 3",
   "language": "python",
   "name": "python3"
  },
  "language_info": {
   "codemirror_mode": {
    "name": "ipython",
    "version": 3
   },
   "file_extension": ".py",
   "mimetype": "text/x-python",
   "name": "python",
   "nbconvert_exporter": "python",
   "pygments_lexer": "ipython3",
   "version": "3.5.1"
  }
 },
 "nbformat": 4,
 "nbformat_minor": 0
}
