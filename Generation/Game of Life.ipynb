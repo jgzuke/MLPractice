{
 "cells": [
  {
   "cell_type": "markdown",
   "metadata": {},
   "source": [
    "# Game of Life"
   ]
  },
  {
   "cell_type": "code",
   "execution_count": 55,
   "metadata": {
    "collapsed": false
   },
   "outputs": [
    {
     "name": "stderr",
     "output_type": "stream",
     "text": [
      "/Users/jgzuke/anaconda3/lib/python3.5/site-packages/matplotlib/__init__.py:1350: UserWarning:  This call to matplotlib.use() has no effect\n",
      "because the backend has already been chosen;\n",
      "matplotlib.use() must be called *before* pylab, matplotlib.pyplot,\n",
      "or matplotlib.backends is imported for the first time.\n",
      "\n",
      "  warnings.warn(_use_error_msg)\n"
     ]
    }
   ],
   "source": [
    "import matplotlib\n",
    "matplotlib.use(\"Agg\")\n",
    "%matplotlib inline\n",
    "import matplotlib.pyplot as plt\n",
    "import matplotlib.animation as animation\n",
    "import numpy as np\n",
    "import random\n",
    "class Game(object):\n",
    "    \n",
    "    def __init__(self, state):\n",
    "        self.state = state\n",
    "\n",
    "    def step(self, count = 1):\n",
    "        for generation in range(count):\n",
    "            new_board = [[False] * self.state.width for row in range(self.state.height)]\n",
    "\n",
    "            for y, row in enumerate(self.state.board):\n",
    "                for x, cell in enumerate(row):\n",
    "                    neighbours = self.neighbours(x, y)\n",
    "                    previous_state = self.state.board[y][x]\n",
    "                    should_live = neighbours == 3 or (neighbours == 2 and previous_state == True)\n",
    "                    new_board[y][x] = should_live\n",
    "\n",
    "            self.state.board = new_board\n",
    "\n",
    "    def neighbours(self, x, y):\n",
    "        count = 0\n",
    "        for hor in [x-1, x, x+1]:\n",
    "            for ver in [y-1, y, y+1]:\n",
    "                if (hor != x or ver != y) and (0 <= hor < self.state.width and 0 <= ver < self.state.height):\n",
    "                    count += self.state.board[ver][hor]\n",
    "        return count\n",
    "\n",
    "    def display(self):\n",
    "        return self.state.board\n",
    "\n",
    "class State(object):\n",
    "    \n",
    "    def __init__(self, width, height, board = None):\n",
    "        if not board:\n",
    "            self.board = [[random.getrandbits(1) for x in range(width)] for y in range(height)]\n",
    "        self.width = width\n",
    "        self.height = height"
   ]
  },
  {
   "cell_type": "code",
   "execution_count": 63,
   "metadata": {
    "collapsed": false
   },
   "outputs": [
    {
     "data": {
      "text/plain": [
       "<matplotlib.image.AxesImage at 0x10d7897f0>"
      ]
     },
     "execution_count": 63,
     "metadata": {},
     "output_type": "execute_result"
    },
    {
     "data": {
      "image/png": "[encoded data removed]",
      "text/plain": [
       "<matplotlib.figure.Figure at 0x10d662358>"
      ]
     },
     "metadata": {},
     "output_type": "display_data"
    }
   ],
   "source": [
    "my_game = Game(State(width = 50, height = 50))\n",
    "plt.imshow(my_game.display(), cmap='gray', interpolation='none')"
   ]
  },
  {
   "cell_type": "code",
   "execution_count": 68,
   "metadata": {
    "collapsed": true
   },
   "outputs": [],
   "source": [
    "Writer = animation.writers['ffmpeg']\n",
    "writer = Writer(fps=3, metadata=dict(artist='Me'), bitrate=360)\n",
    "num_frames = 100"
   ]
  },
  {
   "cell_type": "code",
   "execution_count": null,
   "metadata": {
    "collapsed": false
   },
   "outputs": [],
   "source": [
    "my_game = Game(State(width = 100, height = 100))\n",
    "fig = plt.figure()\n",
    "\n",
    "def update_board(i):\n",
    "    my_game.step()\n",
    "    return plt.imshow(my_game.display(), cmap='gray', interpolation='none'),\n",
    "\n",
    "life_1 = animation.FuncAnimation(fig, update_board, num_frames, interval=50, blit=True)\n",
    "life_1.save('life1.mp4', writer=writer)"
   ]
  },
  {
   "cell_type": "code",
   "execution_count": null,
   "metadata": {
    "collapsed": false
   },
   "outputs": [],
   "source": [
    "my_game = Game(State(width = 100, height = 100))\n",
    "fig2 = plt.figure()\n",
    "\n",
    "frames = []\n",
    "for i in range(num_frames):\n",
    "    my_game.step()\n",
    "    frames.append((plt.imshow(my_game.display(), cmap='gray', interpolation='none'),))\n",
    "\n",
    "life_2 = animation.ArtistAnimation(fig2, frames, interval=50, blit=True)\n",
    "life_2.save('life2.mp4', writer=writer)"
   ]
  },
  {
   "cell_type": "code",
   "execution_count": null,
   "metadata": {
    "collapsed": true
   },
   "outputs": [],
   "source": []
  }
 ],
 "metadata": {
  "kernelspec": {
   "display_name": "Python 3",
   "language": "python",
   "name": "python3"
  },
  "language_info": {
   "codemirror_mode": {
    "name": "ipython",
    "version": 3
   },
   "file_extension": ".py",
   "mimetype": "text/x-python",
   "name": "python",
   "nbconvert_exporter": "python",
   "pygments_lexer": "ipython3",
   "version": "3.5.1"
  }
 },
 "nbformat": 4,
 "nbformat_minor": 0
}
